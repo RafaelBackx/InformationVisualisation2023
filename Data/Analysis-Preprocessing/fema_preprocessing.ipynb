{
 "cells": [
  {
   "cell_type": "code",
   "execution_count": 1,
   "metadata": {},
   "outputs": [],
   "source": [
    "import pandas as pd\n",
    "import json\n",
    "import plotly.express as px"
   ]
  },
  {
   "cell_type": "code",
   "execution_count": 2,
   "metadata": {},
   "outputs": [],
   "source": [
    "properties_file = open('../hazard_mitigation_properties.json', 'r')\n",
    "projects_file = open('../hazard_mitigation_projects.json', 'r')\n",
    "properties_json = json.load(properties_file)\n",
    "projects_json = json.load(projects_file)\n",
    "\n",
    "df_properties = pd.DataFrame(properties_json['HazardMitigationAssistanceMitigatedProperties'])\n",
    "df_projects = pd.DataFrame(projects_json['HazardMitigationAssistanceProjects'])"
   ]
  },
  {
   "cell_type": "code",
   "execution_count": 3,
   "metadata": {},
   "outputs": [
    {
     "data": {
      "text/html": [
       "<div>\n",
       "<style scoped>\n",
       "    .dataframe tbody tr th:only-of-type {\n",
       "        vertical-align: middle;\n",
       "    }\n",
       "\n",
       "    .dataframe tbody tr th {\n",
       "        vertical-align: top;\n",
       "    }\n",
       "\n",
       "    .dataframe thead th {\n",
       "        text-align: right;\n",
       "    }\n",
       "</style>\n",
       "<table border=\"1\" class=\"dataframe\">\n",
       "  <thead>\n",
       "    <tr style=\"text-align: right;\">\n",
       "      <th></th>\n",
       "      <th>projectIdentifier</th>\n",
       "      <th>programArea</th>\n",
       "      <th>programFy</th>\n",
       "      <th>disasterNumber</th>\n",
       "      <th>propertyAction</th>\n",
       "      <th>structureType</th>\n",
       "      <th>typeOfResidency</th>\n",
       "      <th>foundationType</th>\n",
       "      <th>county</th>\n",
       "      <th>city</th>\n",
       "      <th>state</th>\n",
       "      <th>stateNumberCode</th>\n",
       "      <th>region</th>\n",
       "      <th>zip</th>\n",
       "      <th>damageCategory</th>\n",
       "      <th>actualAmountPaid</th>\n",
       "      <th>numberOfProperties</th>\n",
       "      <th>id</th>\n",
       "    </tr>\n",
       "  </thead>\n",
       "  <tbody>\n",
       "    <tr>\n",
       "      <th>0</th>\n",
       "      <td>DR-4022-0031-R</td>\n",
       "      <td>HMGP</td>\n",
       "      <td>2011</td>\n",
       "      <td>4022.0</td>\n",
       "      <td>Acquisition/Demolition</td>\n",
       "      <td>Non-residential - Private</td>\n",
       "      <td>Other (Specify in Comments)</td>\n",
       "      <td>Slab on Grade</td>\n",
       "      <td>Windham</td>\n",
       "      <td>WILMINGTON</td>\n",
       "      <td>Vermont</td>\n",
       "      <td>50</td>\n",
       "      <td>1.0</td>\n",
       "      <td>05363</td>\n",
       "      <td>50 - 99%</td>\n",
       "      <td>NaN</td>\n",
       "      <td>1</td>\n",
       "      <td>23533667-6a8a-4779-b28f-5c4d825ef426</td>\n",
       "    </tr>\n",
       "    <tr>\n",
       "      <th>1</th>\n",
       "      <td>DR-1976-0020-R</td>\n",
       "      <td>HMGP</td>\n",
       "      <td>2011</td>\n",
       "      <td>1976.0</td>\n",
       "      <td>Acquisition/Demolition</td>\n",
       "      <td>Single Family</td>\n",
       "      <td>Rental</td>\n",
       "      <td>Basement</td>\n",
       "      <td>Jefferson</td>\n",
       "      <td>LOUISVILLE</td>\n",
       "      <td>Kentucky</td>\n",
       "      <td>21</td>\n",
       "      <td>4.0</td>\n",
       "      <td>40211</td>\n",
       "      <td>N/A</td>\n",
       "      <td>63999.0</td>\n",
       "      <td>1</td>\n",
       "      <td>197d75e1-34c8-436a-ba1e-3adc895ca1f8</td>\n",
       "    </tr>\n",
       "    <tr>\n",
       "      <th>2</th>\n",
       "      <td>DR-1971-0209-R</td>\n",
       "      <td>HMGP</td>\n",
       "      <td>2011</td>\n",
       "      <td>1971.0</td>\n",
       "      <td>Safe Room/Wind Shelter</td>\n",
       "      <td>Single Family</td>\n",
       "      <td>Owner Occupied - Principal Residence</td>\n",
       "      <td>Crawl Space</td>\n",
       "      <td>Jefferson</td>\n",
       "      <td>CONCORD</td>\n",
       "      <td>Alabama</td>\n",
       "      <td>1</td>\n",
       "      <td>4.0</td>\n",
       "      <td>35203</td>\n",
       "      <td>N/A</td>\n",
       "      <td>4000.0</td>\n",
       "      <td>1</td>\n",
       "      <td>44546cd7-20f7-4dd4-ad00-7baf4b8d750f</td>\n",
       "    </tr>\n",
       "    <tr>\n",
       "      <th>3</th>\n",
       "      <td>DR-1971-0153-R</td>\n",
       "      <td>HMGP</td>\n",
       "      <td>2011</td>\n",
       "      <td>1971.0</td>\n",
       "      <td>Safe Room/Wind Shelter</td>\n",
       "      <td>Single Family</td>\n",
       "      <td>Owner Occupied - Principal Residence</td>\n",
       "      <td>Slab on Grade</td>\n",
       "      <td>Marshall</td>\n",
       "      <td>GUNTERSVILLE</td>\n",
       "      <td>Alabama</td>\n",
       "      <td>1</td>\n",
       "      <td>4.0</td>\n",
       "      <td>35976</td>\n",
       "      <td>N/A</td>\n",
       "      <td>4900.0</td>\n",
       "      <td>1</td>\n",
       "      <td>f3a0ceed-f9e4-4ccb-9a5f-e13595355823</td>\n",
       "    </tr>\n",
       "    <tr>\n",
       "      <th>4</th>\n",
       "      <td>DR-1917-0013-R</td>\n",
       "      <td>HMGP</td>\n",
       "      <td>2010</td>\n",
       "      <td>1917.0</td>\n",
       "      <td>Safe Room/Wind Shelter</td>\n",
       "      <td>Single Family</td>\n",
       "      <td>Owner Occupied - Principal Residence</td>\n",
       "      <td>Slab on Grade</td>\n",
       "      <td>Canadian</td>\n",
       "      <td>YUKON</td>\n",
       "      <td>Oklahoma</td>\n",
       "      <td>40</td>\n",
       "      <td>6.0</td>\n",
       "      <td>73099</td>\n",
       "      <td>N/A</td>\n",
       "      <td>2000.0</td>\n",
       "      <td>20</td>\n",
       "      <td>de1dc299-3c03-48c9-b36f-2eb45645d000</td>\n",
       "    </tr>\n",
       "  </tbody>\n",
       "</table>\n",
       "</div>"
      ],
      "text/plain": [
       "  projectIdentifier programArea  programFy  disasterNumber   \n",
       "0    DR-4022-0031-R        HMGP       2011          4022.0  \\\n",
       "1    DR-1976-0020-R        HMGP       2011          1976.0   \n",
       "2    DR-1971-0209-R        HMGP       2011          1971.0   \n",
       "3    DR-1971-0153-R        HMGP       2011          1971.0   \n",
       "4    DR-1917-0013-R        HMGP       2010          1917.0   \n",
       "\n",
       "           propertyAction              structureType   \n",
       "0  Acquisition/Demolition  Non-residential - Private  \\\n",
       "1  Acquisition/Demolition              Single Family   \n",
       "2  Safe Room/Wind Shelter              Single Family   \n",
       "3  Safe Room/Wind Shelter              Single Family   \n",
       "4  Safe Room/Wind Shelter              Single Family   \n",
       "\n",
       "                        typeOfResidency foundationType     county   \n",
       "0           Other (Specify in Comments)  Slab on Grade    Windham  \\\n",
       "1                                Rental       Basement  Jefferson   \n",
       "2  Owner Occupied - Principal Residence    Crawl Space  Jefferson   \n",
       "3  Owner Occupied - Principal Residence  Slab on Grade   Marshall   \n",
       "4  Owner Occupied - Principal Residence  Slab on Grade   Canadian   \n",
       "\n",
       "           city     state stateNumberCode  region    zip damageCategory   \n",
       "0    WILMINGTON   Vermont              50     1.0  05363       50 - 99%  \\\n",
       "1    LOUISVILLE  Kentucky              21     4.0  40211            N/A   \n",
       "2       CONCORD   Alabama               1     4.0  35203            N/A   \n",
       "3  GUNTERSVILLE   Alabama               1     4.0  35976            N/A   \n",
       "4         YUKON  Oklahoma              40     6.0  73099            N/A   \n",
       "\n",
       "   actualAmountPaid  numberOfProperties                                    id  \n",
       "0               NaN                   1  23533667-6a8a-4779-b28f-5c4d825ef426  \n",
       "1           63999.0                   1  197d75e1-34c8-436a-ba1e-3adc895ca1f8  \n",
       "2            4000.0                   1  44546cd7-20f7-4dd4-ad00-7baf4b8d750f  \n",
       "3            4900.0                   1  f3a0ceed-f9e4-4ccb-9a5f-e13595355823  \n",
       "4            2000.0                  20  de1dc299-3c03-48c9-b36f-2eb45645d000  "
      ]
     },
     "execution_count": 3,
     "metadata": {},
     "output_type": "execute_result"
    }
   ],
   "source": [
    "df_properties.head()"
   ]
  },
  {
   "cell_type": "code",
   "execution_count": 21,
   "metadata": {},
   "outputs": [
    {
     "data": {
      "text/html": [
       "<div>\n",
       "<style scoped>\n",
       "    .dataframe tbody tr th:only-of-type {\n",
       "        vertical-align: middle;\n",
       "    }\n",
       "\n",
       "    .dataframe tbody tr th {\n",
       "        vertical-align: top;\n",
       "    }\n",
       "\n",
       "    .dataframe thead th {\n",
       "        text-align: right;\n",
       "    }\n",
       "</style>\n",
       "<table border=\"1\" class=\"dataframe\">\n",
       "  <thead>\n",
       "    <tr style=\"text-align: right;\">\n",
       "      <th></th>\n",
       "      <th>projectIdentifier</th>\n",
       "      <th>programArea</th>\n",
       "      <th>programFy</th>\n",
       "      <th>region</th>\n",
       "      <th>state</th>\n",
       "      <th>stateNumberCode</th>\n",
       "      <th>county</th>\n",
       "      <th>countyCode</th>\n",
       "      <th>disasterNumber</th>\n",
       "      <th>projectCounties</th>\n",
       "      <th>...</th>\n",
       "      <th>subrecipientAdminCostAmt</th>\n",
       "      <th>srmcObligatedAmt</th>\n",
       "      <th>recipientAdminCostAmt</th>\n",
       "      <th>costSharePercentage</th>\n",
       "      <th>benefitCostRatio</th>\n",
       "      <th>netValueBenefits</th>\n",
       "      <th>numberOfFinalProperties</th>\n",
       "      <th>numberOfProperties</th>\n",
       "      <th>id</th>\n",
       "      <th>disaster based</th>\n",
       "    </tr>\n",
       "  </thead>\n",
       "  <tbody>\n",
       "    <tr>\n",
       "      <th>0</th>\n",
       "      <td>DR-1961-0002-R</td>\n",
       "      <td>HMGP</td>\n",
       "      <td>2011</td>\n",
       "      <td>7</td>\n",
       "      <td>Missouri</td>\n",
       "      <td>29</td>\n",
       "      <td>Moniteau</td>\n",
       "      <td>135</td>\n",
       "      <td>1961.0</td>\n",
       "      <td>MONITEAU</td>\n",
       "      <td>...</td>\n",
       "      <td>0.0</td>\n",
       "      <td>0.0</td>\n",
       "      <td>0.0</td>\n",
       "      <td>0.749996</td>\n",
       "      <td>2.175</td>\n",
       "      <td>500586.0</td>\n",
       "      <td>1</td>\n",
       "      <td>1</td>\n",
       "      <td>d9c99d55-5a60-40ea-a758-3a15de021115</td>\n",
       "      <td>True</td>\n",
       "    </tr>\n",
       "    <tr>\n",
       "      <th>1</th>\n",
       "      <td>DR-1751-0018-P</td>\n",
       "      <td>HMGP</td>\n",
       "      <td>2008</td>\n",
       "      <td>6</td>\n",
       "      <td>Arkansas</td>\n",
       "      <td>5</td>\n",
       "      <td>Statewide</td>\n",
       "      <td>0</td>\n",
       "      <td>1751.0</td>\n",
       "      <td>STATEWIDE</td>\n",
       "      <td>...</td>\n",
       "      <td>0.0</td>\n",
       "      <td>0.0</td>\n",
       "      <td>0.0</td>\n",
       "      <td>0.750000</td>\n",
       "      <td>0.000</td>\n",
       "      <td>0.0</td>\n",
       "      <td>0</td>\n",
       "      <td>0</td>\n",
       "      <td>1627e572-9f79-4055-9ede-40cf3226c5f6</td>\n",
       "      <td>True</td>\n",
       "    </tr>\n",
       "    <tr>\n",
       "      <th>2</th>\n",
       "      <td>DR-1840-0002-R</td>\n",
       "      <td>HMGP</td>\n",
       "      <td>2009</td>\n",
       "      <td>4</td>\n",
       "      <td>Florida</td>\n",
       "      <td>12</td>\n",
       "      <td>Volusia</td>\n",
       "      <td>127</td>\n",
       "      <td>1840.0</td>\n",
       "      <td>VOLUSIA</td>\n",
       "      <td>...</td>\n",
       "      <td>0.0</td>\n",
       "      <td>0.0</td>\n",
       "      <td>0.0</td>\n",
       "      <td>0.750000</td>\n",
       "      <td>1.307</td>\n",
       "      <td>516759.0</td>\n",
       "      <td>0</td>\n",
       "      <td>0</td>\n",
       "      <td>08ea52a7-5126-45a1-aedb-5a5222fbc17c</td>\n",
       "      <td>True</td>\n",
       "    </tr>\n",
       "    <tr>\n",
       "      <th>3</th>\n",
       "      <td>DR-1545-0065-R</td>\n",
       "      <td>HMGP</td>\n",
       "      <td>2004</td>\n",
       "      <td>4</td>\n",
       "      <td>Florida</td>\n",
       "      <td>12</td>\n",
       "      <td>Volusia</td>\n",
       "      <td>127</td>\n",
       "      <td>1545.0</td>\n",
       "      <td>VOLUSIA</td>\n",
       "      <td>...</td>\n",
       "      <td>0.0</td>\n",
       "      <td>0.0</td>\n",
       "      <td>0.0</td>\n",
       "      <td>0.750000</td>\n",
       "      <td>69.041</td>\n",
       "      <td>930678.0</td>\n",
       "      <td>0</td>\n",
       "      <td>0</td>\n",
       "      <td>512a4ab1-7ca1-45a3-8390-92b9ef26a07f</td>\n",
       "      <td>True</td>\n",
       "    </tr>\n",
       "    <tr>\n",
       "      <th>4</th>\n",
       "      <td>DR-4030-0016-R</td>\n",
       "      <td>HMGP</td>\n",
       "      <td>2011</td>\n",
       "      <td>3</td>\n",
       "      <td>Pennsylvania</td>\n",
       "      <td>42</td>\n",
       "      <td>Columbia</td>\n",
       "      <td>37</td>\n",
       "      <td>4030.0</td>\n",
       "      <td>COLUMBIA</td>\n",
       "      <td>...</td>\n",
       "      <td>0.0</td>\n",
       "      <td>0.0</td>\n",
       "      <td>0.0</td>\n",
       "      <td>0.750000</td>\n",
       "      <td>0.000</td>\n",
       "      <td>0.0</td>\n",
       "      <td>5</td>\n",
       "      <td>6</td>\n",
       "      <td>84e82525-63c5-48b9-8cb6-9e8528171081</td>\n",
       "      <td>True</td>\n",
       "    </tr>\n",
       "  </tbody>\n",
       "</table>\n",
       "<p>5 rows × 32 columns</p>\n",
       "</div>"
      ],
      "text/plain": [
       "  projectIdentifier programArea  programFy  region         state   \n",
       "0    DR-1961-0002-R        HMGP       2011       7      Missouri  \\\n",
       "1    DR-1751-0018-P        HMGP       2008       6      Arkansas   \n",
       "2    DR-1840-0002-R        HMGP       2009       4       Florida   \n",
       "3    DR-1545-0065-R        HMGP       2004       4       Florida   \n",
       "4    DR-4030-0016-R        HMGP       2011       3  Pennsylvania   \n",
       "\n",
       "  stateNumberCode     county countyCode  disasterNumber projectCounties  ...   \n",
       "0              29   Moniteau        135          1961.0        MONITEAU  ...  \\\n",
       "1               5  Statewide          0          1751.0       STATEWIDE  ...   \n",
       "2              12    Volusia        127          1840.0         VOLUSIA  ...   \n",
       "3              12    Volusia        127          1545.0         VOLUSIA  ...   \n",
       "4              42   Columbia         37          4030.0        COLUMBIA  ...   \n",
       "\n",
       "  subrecipientAdminCostAmt srmcObligatedAmt recipientAdminCostAmt   \n",
       "0                      0.0              0.0                   0.0  \\\n",
       "1                      0.0              0.0                   0.0   \n",
       "2                      0.0              0.0                   0.0   \n",
       "3                      0.0              0.0                   0.0   \n",
       "4                      0.0              0.0                   0.0   \n",
       "\n",
       "  costSharePercentage benefitCostRatio netValueBenefits   \n",
       "0            0.749996            2.175         500586.0  \\\n",
       "1            0.750000            0.000              0.0   \n",
       "2            0.750000            1.307         516759.0   \n",
       "3            0.750000           69.041         930678.0   \n",
       "4            0.750000            0.000              0.0   \n",
       "\n",
       "  numberOfFinalProperties numberOfProperties   \n",
       "0                       1                  1  \\\n",
       "1                       0                  0   \n",
       "2                       0                  0   \n",
       "3                       0                  0   \n",
       "4                       5                  6   \n",
       "\n",
       "                                     id disaster based  \n",
       "0  d9c99d55-5a60-40ea-a758-3a15de021115           True  \n",
       "1  1627e572-9f79-4055-9ede-40cf3226c5f6           True  \n",
       "2  08ea52a7-5126-45a1-aedb-5a5222fbc17c           True  \n",
       "3  512a4ab1-7ca1-45a3-8390-92b9ef26a07f           True  \n",
       "4  84e82525-63c5-48b9-8cb6-9e8528171081           True  \n",
       "\n",
       "[5 rows x 32 columns]"
      ]
     },
     "execution_count": 21,
     "metadata": {},
     "output_type": "execute_result"
    }
   ],
   "source": [
    "df_projects.head()"
   ]
  },
  {
   "cell_type": "code",
   "execution_count": 22,
   "metadata": {},
   "outputs": [],
   "source": [
    "# check if the property and project are because of a disaster or not, more info on \n",
    "# https://www.fema.gov/openfema-data-page/hazard-mitigation-assistance-mitigated-properties-v3\n",
    "# https://www.fema.gov/openfema-data-page/hazard-mitigation-assistance-projects-v3\n",
    "df_properties['disaster based'] = df_properties.apply(lambda row: 'DR' in row['projectIdentifier'], axis=1)\n",
    "df_projects['disaster based'] = df_projects.apply(lambda row: 'DR' in row['projectIdentifier'], axis=1)"
   ]
  },
  {
   "cell_type": "code",
   "execution_count": 5,
   "metadata": {},
   "outputs": [],
   "source": [
    "df_properties.to_json('../preprocessed-fema-properties.json')\n",
    "df_projects.to_json('../preprocessed-fema-projects.json')"
   ]
  },
  {
   "cell_type": "code",
   "execution_count": 25,
   "metadata": {},
   "outputs": [
    {
     "data": {
      "text/html": [
       "<div>\n",
       "<style scoped>\n",
       "    .dataframe tbody tr th:only-of-type {\n",
       "        vertical-align: middle;\n",
       "    }\n",
       "\n",
       "    .dataframe tbody tr th {\n",
       "        vertical-align: top;\n",
       "    }\n",
       "\n",
       "    .dataframe thead th {\n",
       "        text-align: right;\n",
       "    }\n",
       "</style>\n",
       "<table border=\"1\" class=\"dataframe\">\n",
       "  <thead>\n",
       "    <tr style=\"text-align: right;\">\n",
       "      <th></th>\n",
       "      <th>state</th>\n",
       "      <th>programFy</th>\n",
       "      <th>programArea</th>\n",
       "      <th>disasterNumber</th>\n",
       "      <th>region</th>\n",
       "      <th>actualAmountPaid</th>\n",
       "      <th>numberOfProperties</th>\n",
       "      <th>disaster based</th>\n",
       "    </tr>\n",
       "  </thead>\n",
       "  <tbody>\n",
       "    <tr>\n",
       "      <th>0</th>\n",
       "      <td>Alabama</td>\n",
       "      <td>1990</td>\n",
       "      <td>HMGP</td>\n",
       "      <td>2583.0</td>\n",
       "      <td>12.0</td>\n",
       "      <td>0.0</td>\n",
       "      <td>11</td>\n",
       "      <td>3</td>\n",
       "    </tr>\n",
       "    <tr>\n",
       "      <th>1</th>\n",
       "      <td>Alabama</td>\n",
       "      <td>1994</td>\n",
       "      <td>HMGP</td>\n",
       "      <td>16442.0</td>\n",
       "      <td>64.0</td>\n",
       "      <td>0.0</td>\n",
       "      <td>97</td>\n",
       "      <td>16</td>\n",
       "    </tr>\n",
       "    <tr>\n",
       "      <th>2</th>\n",
       "      <td>Alabama</td>\n",
       "      <td>1995</td>\n",
       "      <td>HMGP</td>\n",
       "      <td>4188.0</td>\n",
       "      <td>16.0</td>\n",
       "      <td>0.0</td>\n",
       "      <td>5</td>\n",
       "      <td>4</td>\n",
       "    </tr>\n",
       "    <tr>\n",
       "      <th>3</th>\n",
       "      <td>Alabama</td>\n",
       "      <td>1996</td>\n",
       "      <td>HMGP</td>\n",
       "      <td>55016.0</td>\n",
       "      <td>204.0</td>\n",
       "      <td>0.0</td>\n",
       "      <td>343</td>\n",
       "      <td>51</td>\n",
       "    </tr>\n",
       "    <tr>\n",
       "      <th>4</th>\n",
       "      <td>Alabama</td>\n",
       "      <td>1997</td>\n",
       "      <td>FMA</td>\n",
       "      <td>0.0</td>\n",
       "      <td>12.0</td>\n",
       "      <td>0.0</td>\n",
       "      <td>3</td>\n",
       "      <td>0</td>\n",
       "    </tr>\n",
       "  </tbody>\n",
       "</table>\n",
       "</div>"
      ],
      "text/plain": [
       "     state  programFy programArea  disasterNumber  region  actualAmountPaid   \n",
       "0  Alabama       1990        HMGP          2583.0    12.0               0.0  \\\n",
       "1  Alabama       1994        HMGP         16442.0    64.0               0.0   \n",
       "2  Alabama       1995        HMGP          4188.0    16.0               0.0   \n",
       "3  Alabama       1996        HMGP         55016.0   204.0               0.0   \n",
       "4  Alabama       1997         FMA             0.0    12.0               0.0   \n",
       "\n",
       "   numberOfProperties  disaster based  \n",
       "0                  11               3  \n",
       "1                  97              16  \n",
       "2                   5               4  \n",
       "3                 343              51  \n",
       "4                   3               0  "
      ]
     },
     "execution_count": 25,
     "metadata": {},
     "output_type": "execute_result"
    }
   ],
   "source": [
    "states = df_properties.groupby(['state', 'programFy', 'programArea'], as_index=False).sum(numeric_only=True)\n",
    "states.head()"
   ]
  },
  {
   "cell_type": "code",
   "execution_count": 3,
   "metadata": {},
   "outputs": [],
   "source": [
    "df_disasters = pd.read_csv('../Preprocessed-Natural-Disasters.csv', delimiter=';')\n",
    "df_disasters_us = df_disasters[df_disasters['ISO'] == 'USA']"
   ]
  },
  {
   "cell_type": "code",
   "execution_count": 4,
   "metadata": {},
   "outputs": [],
   "source": [
    "df_properties = pd.read_json('../preprocessed-fema-properties.json')"
   ]
  },
  {
   "cell_type": "code",
   "execution_count": 4,
   "metadata": {},
   "outputs": [
    {
     "data": {
      "text/plain": [
       "0        50 - 99%\n",
       "15       50 - 99%\n",
       "17        0 - 49%\n",
       "19        0 - 49%\n",
       "35       50 - 99%\n",
       "           ...   \n",
       "69731     0 - 49%\n",
       "69732     0 - 49%\n",
       "69745        100%\n",
       "69746    50 - 99%\n",
       "69749    50 - 99%\n",
       "Name: damageCategory, Length: 26846, dtype: object"
      ]
     },
     "execution_count": 4,
     "metadata": {},
     "output_type": "execute_result"
    }
   ],
   "source": [
    "df_properties[df_properties['damageCategory'] != 'N/A']['damageCategory']"
   ]
  },
  {
   "cell_type": "code",
   "execution_count": 5,
   "metadata": {},
   "outputs": [],
   "source": [
    "def get_fema_cost_distribution(state,year,category):\n",
    "    if (state):\n",
    "        data = df_properties[df_properties['state'] == state]\n",
    "    else:\n",
    "        data = df_properties\n",
    "\n",
    "    categories = data.groupby(category, as_index=False).sum(numeric_only=True)\n",
    "    total_spent = sum(categories['actualAmountPaid'].values)      \n",
    "    categories['spent percentage'] = categories.apply(lambda x: x['actualAmountPaid']/total_spent, axis=1)\n",
    "    print(categories[[category, 'spent percentage']])\n",
    "    return categories"
   ]
  },
  {
   "cell_type": "code",
   "execution_count": 6,
   "metadata": {},
   "outputs": [
    {
     "name": "stdout",
     "output_type": "stream",
     "text": [
      "                      propertyAction  spent percentage\n",
      "0         Acquisition of Vacant Land      1.521470e-03\n",
      "1             Acquisition/Demolition      5.658740e-01\n",
      "2             Acquisition/Relocation      7.317760e-04\n",
      "3                          Elevation      7.860889e-02\n",
      "4                       Floodproofed      6.243115e-03\n",
      "5          Mitigation Reconstruction      6.580360e-04\n",
      "6        Other (Specify in Comments)      2.585890e-03\n",
      "7            Retro (1/15/2008 - DSG)      1.488133e-05\n",
      "8             Safe Room/Wind Shelter      2.471158e-01\n",
      "9                   Seismic Retrofit      3.566646e-03\n",
      "10                 Wildfire Retrofit      1.650698e-04\n",
      "11                     Wind Retrofit      9.291418e-02\n",
      "12    Wind Retrofit Advanced(A-P804)      1.608323e-08\n",
      "13      Wind Retrofit Basic (B-P804)      2.636042e-07\n",
      "14  Wind Retrofit Estimated(ES-P804)      0.000000e+00\n"
     ]
    },
    {
     "data": {
      "text/plain": [
       "0     1.521470e-03\n",
       "1     5.658740e-01\n",
       "2     7.317760e-04\n",
       "3     7.860889e-02\n",
       "4     6.243115e-03\n",
       "5     6.580360e-04\n",
       "6     2.585890e-03\n",
       "7     1.488133e-05\n",
       "8     2.471158e-01\n",
       "9     3.566646e-03\n",
       "10    1.650698e-04\n",
       "11    9.291418e-02\n",
       "12    1.608323e-08\n",
       "13    2.636042e-07\n",
       "14    0.000000e+00\n",
       "Name: spent percentage, dtype: float64"
      ]
     },
     "execution_count": 6,
     "metadata": {},
     "output_type": "execute_result"
    }
   ],
   "source": [
    "get_fema_cost_distribution(None,None,'propertyAction')['spent percentage']"
   ]
  },
  {
   "cell_type": "code",
   "execution_count": 12,
   "metadata": {},
   "outputs": [
    {
     "name": "stderr",
     "output_type": "stream",
     "text": [
      "C:\\Users\\rafae\\AppData\\Local\\Temp\\ipykernel_45952\\2289100761.py:27: FutureWarning:\n",
      "\n",
      "Calling float on a single element Series is deprecated and will raise a TypeError in the future. Use float(ser.iloc[0]) instead\n",
      "\n"
     ]
    },
    {
     "name": "stdout",
     "output_type": "stream",
     "text": [
      "0     8.876529e+06\n",
      "1     9.585362e+06\n",
      "2     2.099164e+07\n",
      "3     3.899616e+07\n",
      "4     4.871793e+07\n",
      "          ...     \n",
      "59    4.016840e+09\n",
      "60    4.126553e+09\n",
      "61    4.250997e+09\n",
      "62    4.328399e+09\n",
      "63    4.328399e+09\n",
      "Name: Total Damages, Adjusted ('000 US$), Length: 64, dtype: float64\n",
      "0     8.876529e+06\n",
      "1     9.585362e+06\n",
      "2     2.099164e+07\n",
      "3     3.899616e+07\n",
      "4     4.871793e+07\n",
      "          ...     \n",
      "59    4.016840e+09\n",
      "60    4.126553e+09\n",
      "61    4.250997e+09\n",
      "62    4.328399e+09\n",
      "63    4.328399e+09\n",
      "Name: Total Damages, Adjusted ('000 US$), Length: 64, dtype: float64\n",
      "0     8.876529e+06\n",
      "1     9.585362e+06\n",
      "2     2.099164e+07\n",
      "3     3.899616e+07\n",
      "4     4.871793e+07\n",
      "          ...     \n",
      "59    4.016840e+09\n",
      "60    4.126553e+09\n",
      "61    4.250997e+09\n",
      "62    4.328399e+09\n",
      "63    4.328399e+09\n",
      "Name: Total Damages, Adjusted ('000 US$), Length: 64, dtype: float64\n",
      "0     8.876529e+06\n",
      "1     9.585362e+06\n",
      "2     2.099164e+07\n",
      "3     3.899616e+07\n",
      "4     4.871793e+07\n",
      "          ...     \n",
      "59    4.016840e+09\n",
      "60    4.126553e+09\n",
      "61    4.250997e+09\n",
      "62    4.328399e+09\n",
      "63    4.328399e+09\n",
      "Name: Total Damages, Adjusted ('000 US$), Length: 64, dtype: float64\n",
      "0     8.876529e+06\n",
      "1     9.585362e+06\n",
      "2     2.099164e+07\n",
      "3     3.899616e+07\n",
      "4     4.871793e+07\n",
      "          ...     \n",
      "59    4.016840e+09\n",
      "60    4.126553e+09\n",
      "61    4.250997e+09\n",
      "62    4.328399e+09\n",
      "63    4.328399e+09\n",
      "Name: Total Damages, Adjusted ('000 US$), Length: 64, dtype: float64\n",
      "0     8.876529e+06\n",
      "1     9.585362e+06\n",
      "2     2.099164e+07\n",
      "3     3.899616e+07\n",
      "4     4.871793e+07\n",
      "          ...     \n",
      "59    4.016840e+09\n",
      "60    4.126553e+09\n",
      "61    4.250997e+09\n",
      "62    4.328399e+09\n",
      "63    4.328399e+09\n",
      "Name: Total Damages, Adjusted ('000 US$), Length: 64, dtype: float64\n",
      "0     8.876529e+06\n",
      "1     9.585362e+06\n",
      "2     2.099164e+07\n",
      "3     3.899616e+07\n",
      "4     4.871793e+07\n",
      "          ...     \n",
      "59    4.016840e+09\n",
      "60    4.126553e+09\n",
      "61    4.250997e+09\n",
      "62    4.328399e+09\n",
      "63    4.328399e+09\n",
      "Name: Total Damages, Adjusted ('000 US$), Length: 64, dtype: float64\n",
      "0     8.876529e+06\n",
      "1     9.585362e+06\n",
      "2     2.099164e+07\n",
      "3     3.899616e+07\n",
      "4     4.871793e+07\n",
      "          ...     \n",
      "59    4.016840e+09\n",
      "60    4.126553e+09\n",
      "61    4.250997e+09\n",
      "62    4.328399e+09\n",
      "63    4.328399e+09\n",
      "Name: Total Damages, Adjusted ('000 US$), Length: 64, dtype: float64\n",
      "0     8.876529e+06\n",
      "1     9.585362e+06\n",
      "2     2.099164e+07\n",
      "3     3.899616e+07\n",
      "4     4.871793e+07\n",
      "          ...     \n",
      "59    4.016840e+09\n",
      "60    4.126553e+09\n",
      "61    4.250997e+09\n",
      "62    4.328399e+09\n",
      "63    4.328399e+09\n",
      "Name: Total Damages, Adjusted ('000 US$), Length: 64, dtype: float64\n",
      "0     8.876529e+06\n",
      "1     9.585362e+06\n",
      "2     2.099164e+07\n",
      "3     3.899616e+07\n",
      "4     4.871793e+07\n",
      "          ...     \n",
      "59    4.016840e+09\n",
      "60    4.126553e+09\n",
      "61    4.250997e+09\n",
      "62    4.328399e+09\n",
      "63    4.328399e+09\n",
      "Name: Total Damages, Adjusted ('000 US$), Length: 64, dtype: float64\n",
      "0     8.876529e+06\n",
      "1     9.585362e+06\n",
      "2     2.099164e+07\n",
      "3     3.899616e+07\n",
      "4     4.871793e+07\n",
      "          ...     \n",
      "59    4.016840e+09\n",
      "60    4.126553e+09\n",
      "61    4.250997e+09\n",
      "62    4.328399e+09\n",
      "63    4.328399e+09\n",
      "Name: Total Damages, Adjusted ('000 US$), Length: 64, dtype: float64\n",
      "0     8.876529e+06\n",
      "1     9.585362e+06\n",
      "2     2.099164e+07\n",
      "3     3.899616e+07\n",
      "4     4.871793e+07\n",
      "          ...     \n",
      "59    4.016840e+09\n",
      "60    4.126553e+09\n",
      "61    4.250997e+09\n",
      "62    4.328399e+09\n",
      "63    4.328399e+09\n",
      "Name: Total Damages, Adjusted ('000 US$), Length: 64, dtype: float64\n",
      "0     8.876529e+06\n",
      "1     9.585362e+06\n",
      "2     2.099164e+07\n",
      "3     3.899616e+07\n",
      "4     4.871793e+07\n",
      "          ...     \n",
      "59    4.016840e+09\n",
      "60    4.126553e+09\n",
      "61    4.250997e+09\n",
      "62    4.328399e+09\n",
      "63    4.328399e+09\n",
      "Name: Total Damages, Adjusted ('000 US$), Length: 64, dtype: float64\n",
      "0     8.876529e+06\n",
      "1     9.585362e+06\n",
      "2     2.099164e+07\n",
      "3     3.899616e+07\n",
      "4     4.871793e+07\n",
      "          ...     \n",
      "59    4.016840e+09\n",
      "60    4.126553e+09\n",
      "61    4.250997e+09\n",
      "62    4.328399e+09\n",
      "63    4.328399e+09\n",
      "Name: Total Damages, Adjusted ('000 US$), Length: 64, dtype: float64\n",
      "0     8.876529e+06\n",
      "1     9.585362e+06\n",
      "2     2.099164e+07\n",
      "3     3.899616e+07\n",
      "4     4.871793e+07\n",
      "          ...     \n",
      "59    4.016840e+09\n",
      "60    4.126553e+09\n",
      "61    4.250997e+09\n",
      "62    4.328399e+09\n",
      "63    4.328399e+09\n",
      "Name: Total Damages, Adjusted ('000 US$), Length: 64, dtype: float64\n",
      "0     8.876529e+06\n",
      "1     9.585362e+06\n",
      "2     2.099164e+07\n",
      "3     3.899616e+07\n",
      "4     4.871793e+07\n",
      "          ...     \n",
      "59    4.016840e+09\n",
      "60    4.126553e+09\n",
      "61    4.250997e+09\n",
      "62    4.328399e+09\n",
      "63    4.328399e+09\n",
      "Name: Total Damages, Adjusted ('000 US$), Length: 64, dtype: float64\n",
      "0     8.876529e+06\n",
      "1     9.585362e+06\n",
      "2     2.099164e+07\n",
      "3     3.899616e+07\n",
      "4     4.871793e+07\n",
      "          ...     \n",
      "59    4.016840e+09\n",
      "60    4.126553e+09\n",
      "61    4.250997e+09\n",
      "62    4.328399e+09\n",
      "63    4.328399e+09\n",
      "Name: Total Damages, Adjusted ('000 US$), Length: 64, dtype: float64\n",
      "0     8.876529e+06\n",
      "1     9.585362e+06\n",
      "2     2.099164e+07\n",
      "3     3.899616e+07\n",
      "4     4.871793e+07\n",
      "          ...     \n",
      "59    4.016840e+09\n",
      "60    4.126553e+09\n",
      "61    4.250997e+09\n",
      "62    4.328399e+09\n",
      "63    4.328399e+09\n",
      "Name: Total Damages, Adjusted ('000 US$), Length: 64, dtype: float64\n",
      "0     8.876529e+06\n",
      "1     9.585362e+06\n",
      "2     2.099164e+07\n",
      "3     3.899616e+07\n",
      "4     4.871793e+07\n",
      "          ...     \n",
      "59    4.016840e+09\n",
      "60    4.126553e+09\n",
      "61    4.250997e+09\n",
      "62    4.328399e+09\n",
      "63    4.328399e+09\n",
      "Name: Total Damages, Adjusted ('000 US$), Length: 64, dtype: float64\n",
      "0     8.876529e+06\n",
      "1     9.585362e+06\n",
      "2     2.099164e+07\n",
      "3     3.899616e+07\n",
      "4     4.871793e+07\n",
      "          ...     \n",
      "59    4.016840e+09\n",
      "60    4.126553e+09\n",
      "61    4.250997e+09\n",
      "62    4.328399e+09\n",
      "63    4.328399e+09\n",
      "Name: Total Damages, Adjusted ('000 US$), Length: 64, dtype: float64\n",
      "0     8.876529e+06\n",
      "1     9.585362e+06\n",
      "2     2.099164e+07\n",
      "3     3.899616e+07\n",
      "4     4.871793e+07\n",
      "          ...     \n",
      "59    4.016840e+09\n",
      "60    4.126553e+09\n",
      "61    4.250997e+09\n",
      "62    4.328399e+09\n",
      "63    4.328399e+09\n",
      "Name: Total Damages, Adjusted ('000 US$), Length: 64, dtype: float64\n",
      "0     8.876529e+06\n",
      "1     9.585362e+06\n",
      "2     2.099164e+07\n",
      "3     3.899616e+07\n",
      "4     4.871793e+07\n",
      "          ...     \n",
      "59    4.016840e+09\n",
      "60    4.126553e+09\n",
      "61    4.250997e+09\n",
      "62    4.328399e+09\n",
      "63    4.328399e+09\n",
      "Name: Total Damages, Adjusted ('000 US$), Length: 64, dtype: float64\n",
      "0     8.876529e+06\n",
      "1     9.585362e+06\n",
      "2     2.099164e+07\n",
      "3     3.899616e+07\n",
      "4     4.871793e+07\n",
      "          ...     \n",
      "59    4.016840e+09\n",
      "60    4.126553e+09\n",
      "61    4.250997e+09\n",
      "62    4.328399e+09\n",
      "63    4.328399e+09\n",
      "Name: Total Damages, Adjusted ('000 US$), Length: 64, dtype: float64\n",
      "0     8.876529e+06\n",
      "1     9.585362e+06\n",
      "2     2.099164e+07\n",
      "3     3.899616e+07\n",
      "4     4.871793e+07\n",
      "          ...     \n",
      "59    4.016840e+09\n",
      "60    4.126553e+09\n",
      "61    4.250997e+09\n",
      "62    4.328399e+09\n",
      "63    4.328399e+09\n",
      "Name: Total Damages, Adjusted ('000 US$), Length: 64, dtype: float64\n",
      "0     8.876529e+06\n",
      "1     9.585362e+06\n",
      "2     2.099164e+07\n",
      "3     3.899616e+07\n",
      "4     4.871793e+07\n",
      "          ...     \n",
      "59    4.016840e+09\n",
      "60    4.126553e+09\n",
      "61    4.250997e+09\n",
      "62    4.328399e+09\n",
      "63    4.328399e+09\n",
      "Name: Total Damages, Adjusted ('000 US$), Length: 64, dtype: float64\n",
      "0     8.876529e+06\n",
      "1     9.585362e+06\n",
      "2     2.099164e+07\n",
      "3     3.899616e+07\n",
      "4     4.871793e+07\n",
      "          ...     \n",
      "59    4.016840e+09\n",
      "60    4.126553e+09\n",
      "61    4.250997e+09\n",
      "62    4.328399e+09\n",
      "63    4.328399e+09\n",
      "Name: Total Damages, Adjusted ('000 US$), Length: 64, dtype: float64\n",
      "0     8.876529e+06\n",
      "1     9.585362e+06\n",
      "2     2.099164e+07\n",
      "3     3.899616e+07\n",
      "4     4.871793e+07\n",
      "          ...     \n",
      "59    4.016840e+09\n",
      "60    4.126553e+09\n",
      "61    4.250997e+09\n",
      "62    4.328399e+09\n",
      "63    4.328399e+09\n",
      "Name: Total Damages, Adjusted ('000 US$), Length: 64, dtype: float64\n",
      "0     8.876529e+06\n",
      "1     9.585362e+06\n",
      "2     2.099164e+07\n",
      "3     3.899616e+07\n",
      "4     4.871793e+07\n",
      "          ...     \n",
      "59    4.016840e+09\n",
      "60    4.126553e+09\n",
      "61    4.250997e+09\n",
      "62    4.328399e+09\n",
      "63    4.328399e+09\n",
      "Name: Total Damages, Adjusted ('000 US$), Length: 64, dtype: float64\n",
      "0     8.876529e+06\n",
      "1     9.585362e+06\n",
      "2     2.099164e+07\n",
      "3     3.899616e+07\n",
      "4     4.871793e+07\n",
      "          ...     \n",
      "59    4.016840e+09\n",
      "60    4.126553e+09\n",
      "61    4.250997e+09\n",
      "62    4.328399e+09\n",
      "63    4.328399e+09\n",
      "Name: Total Damages, Adjusted ('000 US$), Length: 64, dtype: float64\n",
      "0     8.876529e+06\n",
      "1     9.585362e+06\n",
      "2     2.099164e+07\n",
      "3     3.899616e+07\n",
      "4     4.871793e+07\n",
      "          ...     \n",
      "59    4.016840e+09\n",
      "60    4.126553e+09\n",
      "61    4.250997e+09\n",
      "62    4.328399e+09\n",
      "63    4.328399e+09\n",
      "Name: Total Damages, Adjusted ('000 US$), Length: 64, dtype: float64\n",
      "0     8.876529e+06\n",
      "1     9.585362e+06\n",
      "2     2.099164e+07\n",
      "3     3.899616e+07\n",
      "4     4.871793e+07\n",
      "          ...     \n",
      "59    4.016840e+09\n",
      "60    4.126553e+09\n",
      "61    4.250997e+09\n",
      "62    4.328399e+09\n",
      "63    4.328399e+09\n",
      "Name: Total Damages, Adjusted ('000 US$), Length: 64, dtype: float64\n",
      "0     8.876529e+06\n",
      "1     9.585362e+06\n",
      "2     2.099164e+07\n",
      "3     3.899616e+07\n",
      "4     4.871793e+07\n",
      "          ...     \n",
      "59    4.016840e+09\n",
      "60    4.126553e+09\n",
      "61    4.250997e+09\n",
      "62    4.328399e+09\n",
      "63    4.328399e+09\n",
      "Name: Total Damages, Adjusted ('000 US$), Length: 64, dtype: float64\n",
      "0     8.876529e+06\n",
      "1     9.585362e+06\n",
      "2     2.099164e+07\n",
      "3     3.899616e+07\n",
      "4     4.871793e+07\n",
      "          ...     \n",
      "59    4.016840e+09\n",
      "60    4.126553e+09\n",
      "61    4.250997e+09\n",
      "62    4.328399e+09\n",
      "63    4.328399e+09\n",
      "Name: Total Damages, Adjusted ('000 US$), Length: 64, dtype: float64\n",
      "0     8.876529e+06\n",
      "1     9.585362e+06\n",
      "2     2.099164e+07\n",
      "3     3.899616e+07\n",
      "4     4.871793e+07\n",
      "          ...     \n",
      "59    4.016840e+09\n",
      "60    4.126553e+09\n",
      "61    4.250997e+09\n",
      "62    4.328399e+09\n",
      "63    4.328399e+09\n",
      "Name: Total Damages, Adjusted ('000 US$), Length: 64, dtype: float64\n",
      "0     8.876529e+06\n",
      "1     9.585362e+06\n",
      "2     2.099164e+07\n",
      "3     3.899616e+07\n",
      "4     4.871793e+07\n",
      "          ...     \n",
      "59    4.016840e+09\n",
      "60    4.126553e+09\n",
      "61    4.250997e+09\n",
      "62    4.328399e+09\n",
      "63    4.328399e+09\n",
      "Name: Total Damages, Adjusted ('000 US$), Length: 64, dtype: float64\n",
      "0     8.876529e+06\n",
      "1     9.585362e+06\n",
      "2     2.099164e+07\n",
      "3     3.899616e+07\n",
      "4     4.871793e+07\n",
      "          ...     \n",
      "59    4.016840e+09\n",
      "60    4.126553e+09\n",
      "61    4.250997e+09\n",
      "62    4.328399e+09\n",
      "63    4.328399e+09\n",
      "Name: Total Damages, Adjusted ('000 US$), Length: 64, dtype: float64\n",
      "0     8.876529e+06\n",
      "1     9.585362e+06\n",
      "2     2.099164e+07\n",
      "3     3.899616e+07\n",
      "4     4.871793e+07\n",
      "          ...     \n",
      "59    4.016840e+09\n",
      "60    4.126553e+09\n",
      "61    4.250997e+09\n",
      "62    4.328399e+09\n",
      "63    4.328399e+09\n",
      "Name: Total Damages, Adjusted ('000 US$), Length: 64, dtype: float64\n",
      "0     8.876529e+06\n",
      "1     9.585362e+06\n",
      "2     2.099164e+07\n",
      "3     3.899616e+07\n",
      "4     4.871793e+07\n",
      "          ...     \n",
      "59    4.016840e+09\n",
      "60    4.126553e+09\n",
      "61    4.250997e+09\n",
      "62    4.328399e+09\n",
      "63    4.328399e+09\n",
      "Name: Total Damages, Adjusted ('000 US$), Length: 64, dtype: float64\n",
      "0     8.876529e+06\n",
      "1     9.585362e+06\n",
      "2     2.099164e+07\n",
      "3     3.899616e+07\n",
      "4     4.871793e+07\n",
      "          ...     \n",
      "59    4.016840e+09\n",
      "60    4.126553e+09\n",
      "61    4.250997e+09\n",
      "62    4.328399e+09\n",
      "63    4.328399e+09\n",
      "Name: Total Damages, Adjusted ('000 US$), Length: 64, dtype: float64\n",
      "0     8.876529e+06\n",
      "1     9.585362e+06\n",
      "2     2.099164e+07\n",
      "3     3.899616e+07\n",
      "4     4.871793e+07\n",
      "          ...     \n",
      "59    4.016840e+09\n",
      "60    4.126553e+09\n",
      "61    4.250997e+09\n",
      "62    4.328399e+09\n",
      "63    4.328399e+09\n",
      "Name: Total Damages, Adjusted ('000 US$), Length: 64, dtype: float64\n",
      "0     8.876529e+06\n",
      "1     9.585362e+06\n",
      "2     2.099164e+07\n",
      "3     3.899616e+07\n",
      "4     4.871793e+07\n",
      "          ...     \n",
      "59    4.016840e+09\n",
      "60    4.126553e+09\n",
      "61    4.250997e+09\n",
      "62    4.328399e+09\n",
      "63    4.328399e+09\n",
      "Name: Total Damages, Adjusted ('000 US$), Length: 64, dtype: float64\n",
      "0     8.876529e+06\n",
      "1     9.585362e+06\n",
      "2     2.099164e+07\n",
      "3     3.899616e+07\n",
      "4     4.871793e+07\n",
      "          ...     \n",
      "59    4.016840e+09\n",
      "60    4.126553e+09\n",
      "61    4.250997e+09\n",
      "62    4.328399e+09\n",
      "63    4.328399e+09\n",
      "Name: Total Damages, Adjusted ('000 US$), Length: 64, dtype: float64\n",
      "0     8.876529e+06\n",
      "1     9.585362e+06\n",
      "2     2.099164e+07\n",
      "3     3.899616e+07\n",
      "4     4.871793e+07\n",
      "          ...     \n",
      "59    4.016840e+09\n",
      "60    4.126553e+09\n",
      "61    4.250997e+09\n",
      "62    4.328399e+09\n",
      "63    4.328399e+09\n",
      "Name: Total Damages, Adjusted ('000 US$), Length: 64, dtype: float64\n",
      "0     8.876529e+06\n",
      "1     9.585362e+06\n",
      "2     2.099164e+07\n",
      "3     3.899616e+07\n",
      "4     4.871793e+07\n",
      "          ...     \n",
      "59    4.016840e+09\n",
      "60    4.126553e+09\n",
      "61    4.250997e+09\n",
      "62    4.328399e+09\n",
      "63    4.328399e+09\n",
      "Name: Total Damages, Adjusted ('000 US$), Length: 64, dtype: float64\n",
      "0     8.876529e+06\n",
      "1     9.585362e+06\n",
      "2     2.099164e+07\n",
      "3     3.899616e+07\n",
      "4     4.871793e+07\n",
      "          ...     \n",
      "59    4.016840e+09\n",
      "60    4.126553e+09\n",
      "61    4.250997e+09\n",
      "62    4.328399e+09\n",
      "63    4.328399e+09\n",
      "Name: Total Damages, Adjusted ('000 US$), Length: 64, dtype: float64\n",
      "0     8.876529e+06\n",
      "1     9.585362e+06\n",
      "2     2.099164e+07\n",
      "3     3.899616e+07\n",
      "4     4.871793e+07\n",
      "          ...     \n",
      "59    4.016840e+09\n",
      "60    4.126553e+09\n",
      "61    4.250997e+09\n",
      "62    4.328399e+09\n",
      "63    4.328399e+09\n",
      "Name: Total Damages, Adjusted ('000 US$), Length: 64, dtype: float64\n",
      "0     8.876529e+06\n",
      "1     9.585362e+06\n",
      "2     2.099164e+07\n",
      "3     3.899616e+07\n",
      "4     4.871793e+07\n",
      "          ...     \n",
      "59    4.016840e+09\n",
      "60    4.126553e+09\n",
      "61    4.250997e+09\n",
      "62    4.328399e+09\n",
      "63    4.328399e+09\n",
      "Name: Total Damages, Adjusted ('000 US$), Length: 64, dtype: float64\n",
      "0     8.876529e+06\n",
      "1     9.585362e+06\n",
      "2     2.099164e+07\n",
      "3     3.899616e+07\n",
      "4     4.871793e+07\n",
      "          ...     \n",
      "59    4.016840e+09\n",
      "60    4.126553e+09\n",
      "61    4.250997e+09\n",
      "62    4.328399e+09\n",
      "63    4.328399e+09\n",
      "Name: Total Damages, Adjusted ('000 US$), Length: 64, dtype: float64\n",
      "0     8.876529e+06\n",
      "1     9.585362e+06\n",
      "2     2.099164e+07\n",
      "3     3.899616e+07\n",
      "4     4.871793e+07\n",
      "          ...     \n",
      "59    4.016840e+09\n",
      "60    4.126553e+09\n",
      "61    4.250997e+09\n",
      "62    4.328399e+09\n",
      "63    4.328399e+09\n",
      "Name: Total Damages, Adjusted ('000 US$), Length: 64, dtype: float64\n",
      "0     8.876529e+06\n",
      "1     9.585362e+06\n",
      "2     2.099164e+07\n",
      "3     3.899616e+07\n",
      "4     4.871793e+07\n",
      "          ...     \n",
      "59    4.016840e+09\n",
      "60    4.126553e+09\n",
      "61    4.250997e+09\n",
      "62    4.328399e+09\n",
      "63    4.328399e+09\n",
      "Name: Total Damages, Adjusted ('000 US$), Length: 64, dtype: float64\n",
      "0     8.876529e+06\n",
      "1     9.585362e+06\n",
      "2     2.099164e+07\n",
      "3     3.899616e+07\n",
      "4     4.871793e+07\n",
      "          ...     \n",
      "59    4.016840e+09\n",
      "60    4.126553e+09\n",
      "61    4.250997e+09\n",
      "62    4.328399e+09\n",
      "63    4.328399e+09\n",
      "Name: Total Damages, Adjusted ('000 US$), Length: 64, dtype: float64\n",
      "0     8.876529e+06\n",
      "1     9.585362e+06\n",
      "2     2.099164e+07\n",
      "3     3.899616e+07\n",
      "4     4.871793e+07\n",
      "          ...     \n",
      "59    4.016840e+09\n",
      "60    4.126553e+09\n",
      "61    4.250997e+09\n",
      "62    4.328399e+09\n",
      "63    4.328399e+09\n",
      "Name: Total Damages, Adjusted ('000 US$), Length: 64, dtype: float64\n",
      "0     8.876529e+06\n",
      "1     9.585362e+06\n",
      "2     2.099164e+07\n",
      "3     3.899616e+07\n",
      "4     4.871793e+07\n",
      "          ...     \n",
      "59    4.016840e+09\n",
      "60    4.126553e+09\n",
      "61    4.250997e+09\n",
      "62    4.328399e+09\n",
      "63    4.328399e+09\n",
      "Name: Total Damages, Adjusted ('000 US$), Length: 64, dtype: float64\n",
      "0     8.876529e+06\n",
      "1     9.585362e+06\n",
      "2     2.099164e+07\n",
      "3     3.899616e+07\n",
      "4     4.871793e+07\n",
      "          ...     \n",
      "59    4.016840e+09\n",
      "60    4.126553e+09\n",
      "61    4.250997e+09\n",
      "62    4.328399e+09\n",
      "63    4.328399e+09\n",
      "Name: Total Damages, Adjusted ('000 US$), Length: 64, dtype: float64\n",
      "0     8.876529e+06\n",
      "1     9.585362e+06\n",
      "2     2.099164e+07\n",
      "3     3.899616e+07\n",
      "4     4.871793e+07\n",
      "          ...     \n",
      "59    4.016840e+09\n",
      "60    4.126553e+09\n",
      "61    4.250997e+09\n",
      "62    4.328399e+09\n",
      "63    4.328399e+09\n",
      "Name: Total Damages, Adjusted ('000 US$), Length: 64, dtype: float64\n",
      "0     8.876529e+06\n",
      "1     9.585362e+06\n",
      "2     2.099164e+07\n",
      "3     3.899616e+07\n",
      "4     4.871793e+07\n",
      "          ...     \n",
      "59    4.016840e+09\n",
      "60    4.126553e+09\n",
      "61    4.250997e+09\n",
      "62    4.328399e+09\n",
      "63    4.328399e+09\n",
      "Name: Total Damages, Adjusted ('000 US$), Length: 64, dtype: float64\n",
      "0     8.876529e+06\n",
      "1     9.585362e+06\n",
      "2     2.099164e+07\n",
      "3     3.899616e+07\n",
      "4     4.871793e+07\n",
      "          ...     \n",
      "59    4.016840e+09\n",
      "60    4.126553e+09\n",
      "61    4.250997e+09\n",
      "62    4.328399e+09\n",
      "63    4.328399e+09\n",
      "Name: Total Damages, Adjusted ('000 US$), Length: 64, dtype: float64\n",
      "0     8.876529e+06\n",
      "1     9.585362e+06\n",
      "2     2.099164e+07\n",
      "3     3.899616e+07\n",
      "4     4.871793e+07\n",
      "          ...     \n",
      "59    4.016840e+09\n",
      "60    4.126553e+09\n",
      "61    4.250997e+09\n",
      "62    4.328399e+09\n",
      "63    4.328399e+09\n",
      "Name: Total Damages, Adjusted ('000 US$), Length: 64, dtype: float64\n",
      "0     8.876529e+06\n",
      "1     9.585362e+06\n",
      "2     2.099164e+07\n",
      "3     3.899616e+07\n",
      "4     4.871793e+07\n",
      "          ...     \n",
      "59    4.016840e+09\n",
      "60    4.126553e+09\n",
      "61    4.250997e+09\n",
      "62    4.328399e+09\n",
      "63    4.328399e+09\n",
      "Name: Total Damages, Adjusted ('000 US$), Length: 64, dtype: float64\n",
      "0     8.876529e+06\n",
      "1     9.585362e+06\n",
      "2     2.099164e+07\n",
      "3     3.899616e+07\n",
      "4     4.871793e+07\n",
      "          ...     \n",
      "59    4.016840e+09\n",
      "60    4.126553e+09\n",
      "61    4.250997e+09\n",
      "62    4.328399e+09\n",
      "63    4.328399e+09\n",
      "Name: Total Damages, Adjusted ('000 US$), Length: 64, dtype: float64\n",
      "0     8.876529e+06\n",
      "1     9.585362e+06\n",
      "2     2.099164e+07\n",
      "3     3.899616e+07\n",
      "4     4.871793e+07\n",
      "          ...     \n",
      "59    4.016840e+09\n",
      "60    4.126553e+09\n",
      "61    4.250997e+09\n",
      "62    4.328399e+09\n",
      "63    4.328399e+09\n",
      "Name: Total Damages, Adjusted ('000 US$), Length: 64, dtype: float64\n",
      "0     8.876529e+06\n",
      "1     9.585362e+06\n",
      "2     2.099164e+07\n",
      "3     3.899616e+07\n",
      "4     4.871793e+07\n",
      "          ...     \n",
      "59    4.016840e+09\n",
      "60    4.126553e+09\n",
      "61    4.250997e+09\n",
      "62    4.328399e+09\n",
      "63    4.328399e+09\n",
      "Name: Total Damages, Adjusted ('000 US$), Length: 64, dtype: float64\n",
      "0     8.876529e+06\n",
      "1     9.585362e+06\n",
      "2     2.099164e+07\n",
      "3     3.899616e+07\n",
      "4     4.871793e+07\n",
      "          ...     \n",
      "59    4.016840e+09\n",
      "60    4.126553e+09\n",
      "61    4.250997e+09\n",
      "62    4.328399e+09\n",
      "63    4.328399e+09\n",
      "Name: Total Damages, Adjusted ('000 US$), Length: 64, dtype: float64\n",
      "0     8.876529e+06\n",
      "1     9.585362e+06\n",
      "2     2.099164e+07\n",
      "3     3.899616e+07\n",
      "4     4.871793e+07\n",
      "          ...     \n",
      "59    4.016840e+09\n",
      "60    4.126553e+09\n",
      "61    4.250997e+09\n",
      "62    4.328399e+09\n",
      "63    4.328399e+09\n",
      "Name: Total Damages, Adjusted ('000 US$), Length: 64, dtype: float64\n"
     ]
    },
    {
     "data": {
      "application/vnd.plotly.v1+json": {
       "config": {
        "plotlyServerURL": "https://plot.ly"
       },
       "data": [
        {
         "hovertemplate": "variable=Total Damages, Adjusted ('000 US$)<br>Start Year=%{x}<br>value=%{y}<extra></extra>",
         "legendgroup": "Total Damages, Adjusted ('000 US$)",
         "line": {
          "color": "#636efa",
          "dash": "solid"
         },
         "marker": {
          "symbol": "circle"
         },
         "mode": "lines",
         "name": "Total Damages, Adjusted ('000 US$)",
         "orientation": "v",
         "showlegend": true,
         "type": "scatter",
         "x": [
          1960,
          1961,
          1962,
          1963,
          1964,
          1965,
          1966,
          1967,
          1968,
          1969,
          1970,
          1971,
          1972,
          1973,
          1974,
          1975,
          1976,
          1977,
          1978,
          1979,
          1980,
          1981,
          1982,
          1983,
          1984,
          1985,
          1986,
          1987,
          1988,
          1989,
          1990,
          1991,
          1992,
          1993,
          1994,
          1995,
          1996,
          1997,
          1998,
          1999,
          2000,
          2001,
          2002,
          2003,
          2004,
          2005,
          2006,
          2007,
          2008,
          2009,
          2010,
          2011,
          2012,
          2013,
          2014,
          2015,
          2016,
          2017,
          2018,
          2019,
          2020,
          2021,
          2022
         ],
         "xaxis": "x",
         "y": [
          9519321,
          13513853,
          16899942,
          16899942,
          29930240,
          45144269,
          46045901,
          47800514,
          47867823,
          62387545,
          67641388,
          71638213,
          87174928,
          90844648,
          96779849,
          99776184,
          99987029,
          114472902,
          114921530,
          126466425,
          141097686,
          143868935,
          150376790,
          165383431,
          172737879,
          186597312,
          191525393,
          192609728,
          192609728,
          224432696,
          226073833,
          241714202,
          314608510,
          351930234,
          414230521,
          446427998,
          457846854,
          475330482,
          507586579,
          533575981,
          543418836,
          557239176,
          574843372,
          605019103,
          691367291,
          929727559,
          939051035,
          952689941,
          1031342908,
          1048061597,
          1060358696,
          1137683400,
          1263264465,
          1285610080,
          1306351158,
          1337928447,
          1392458164,
          1619913089,
          1697707548,
          1724207695,
          1810824357,
          1964744543,
          2111180543
         ],
         "yaxis": "y"
        },
        {
         "hovertemplate": "variable=other country<br>Start Year=%{x}<br>value=%{y}<extra></extra>",
         "legendgroup": "other country",
         "line": {
          "color": "#EF553B",
          "dash": "solid"
         },
         "marker": {
          "symbol": "circle"
         },
         "mode": "lines",
         "name": "other country",
         "orientation": "v",
         "showlegend": true,
         "type": "scatter",
         "x": [
          1960,
          1961,
          1962,
          1963,
          1964,
          1965,
          1966,
          1967,
          1968,
          1969,
          1970,
          1971,
          1972,
          1973,
          1974,
          1975,
          1976,
          1977,
          1978,
          1979,
          1980,
          1981,
          1982,
          1983,
          1984,
          1985,
          1986,
          1987,
          1988,
          1989,
          1990,
          1991,
          1992,
          1993,
          1994,
          1995,
          1996,
          1997,
          1998,
          1999,
          2000,
          2001,
          2002,
          2003,
          2004,
          2005,
          2006,
          2007,
          2008,
          2009,
          2010,
          2011,
          2012,
          2013,
          2014,
          2015,
          2016,
          2017,
          2018,
          2019,
          2020,
          2021,
          2022
         ],
         "xaxis": "x",
         "y": [
          8876529,
          9585362,
          20991643,
          38996157,
          48717929,
          56980855,
          81945528,
          94524572,
          103078209,
          107819452,
          125756346,
          134094096,
          149283777,
          161557113,
          179303031,
          193511536,
          266307849,
          300677735,
          328039124,
          334693003,
          436430182,
          477879466,
          506179200,
          540552815,
          559556573,
          592256379,
          624979983,
          661958332,
          727079177,
          760004006,
          866414769,
          934132757,
          975946697,
          1041930189,
          1120045404,
          1385205575,
          1454611966,
          1510527757,
          1633435580,
          1804655837,
          1873969898,
          1904898052,
          1971274453,
          2052198726,
          2177154591,
          2259792314,
          2300026542,
          2391391539,
          2572184682,
          2619274737,
          2784396889,
          3180774520,
          3254998695,
          3384157118,
          3484689539,
          3561446675,
          3687354624,
          3849895259,
          3927792540,
          4016840425,
          4126553490,
          4250996695,
          4328398724
         ],
         "yaxis": "y"
        }
       ],
       "layout": {
        "legend": {
         "title": {
          "text": "variable"
         },
         "tracegroupgap": 0
        },
        "margin": {
         "t": 60
        },
        "template": {
         "data": {
          "bar": [
           {
            "error_x": {
             "color": "#2a3f5f"
            },
            "error_y": {
             "color": "#2a3f5f"
            },
            "marker": {
             "line": {
              "color": "#E5ECF6",
              "width": 0.5
             },
             "pattern": {
              "fillmode": "overlay",
              "size": 10,
              "solidity": 0.2
             }
            },
            "type": "bar"
           }
          ],
          "barpolar": [
           {
            "marker": {
             "line": {
              "color": "#E5ECF6",
              "width": 0.5
             },
             "pattern": {
              "fillmode": "overlay",
              "size": 10,
              "solidity": 0.2
             }
            },
            "type": "barpolar"
           }
          ],
          "carpet": [
           {
            "aaxis": {
             "endlinecolor": "#2a3f5f",
             "gridcolor": "white",
             "linecolor": "white",
             "minorgridcolor": "white",
             "startlinecolor": "#2a3f5f"
            },
            "baxis": {
             "endlinecolor": "#2a3f5f",
             "gridcolor": "white",
             "linecolor": "white",
             "minorgridcolor": "white",
             "startlinecolor": "#2a3f5f"
            },
            "type": "carpet"
           }
          ],
          "choropleth": [
           {
            "colorbar": {
             "outlinewidth": 0,
             "ticks": ""
            },
            "type": "choropleth"
           }
          ],
          "contour": [
           {
            "colorbar": {
             "outlinewidth": 0,
             "ticks": ""
            },
            "colorscale": [
             [
              0,
              "#0d0887"
             ],
             [
              0.1111111111111111,
              "#46039f"
             ],
             [
              0.2222222222222222,
              "#7201a8"
             ],
             [
              0.3333333333333333,
              "#9c179e"
             ],
             [
              0.4444444444444444,
              "#bd3786"
             ],
             [
              0.5555555555555556,
              "#d8576b"
             ],
             [
              0.6666666666666666,
              "#ed7953"
             ],
             [
              0.7777777777777778,
              "#fb9f3a"
             ],
             [
              0.8888888888888888,
              "#fdca26"
             ],
             [
              1,
              "#f0f921"
             ]
            ],
            "type": "contour"
           }
          ],
          "contourcarpet": [
           {
            "colorbar": {
             "outlinewidth": 0,
             "ticks": ""
            },
            "type": "contourcarpet"
           }
          ],
          "heatmap": [
           {
            "colorbar": {
             "outlinewidth": 0,
             "ticks": ""
            },
            "colorscale": [
             [
              0,
              "#0d0887"
             ],
             [
              0.1111111111111111,
              "#46039f"
             ],
             [
              0.2222222222222222,
              "#7201a8"
             ],
             [
              0.3333333333333333,
              "#9c179e"
             ],
             [
              0.4444444444444444,
              "#bd3786"
             ],
             [
              0.5555555555555556,
              "#d8576b"
             ],
             [
              0.6666666666666666,
              "#ed7953"
             ],
             [
              0.7777777777777778,
              "#fb9f3a"
             ],
             [
              0.8888888888888888,
              "#fdca26"
             ],
             [
              1,
              "#f0f921"
             ]
            ],
            "type": "heatmap"
           }
          ],
          "heatmapgl": [
           {
            "colorbar": {
             "outlinewidth": 0,
             "ticks": ""
            },
            "colorscale": [
             [
              0,
              "#0d0887"
             ],
             [
              0.1111111111111111,
              "#46039f"
             ],
             [
              0.2222222222222222,
              "#7201a8"
             ],
             [
              0.3333333333333333,
              "#9c179e"
             ],
             [
              0.4444444444444444,
              "#bd3786"
             ],
             [
              0.5555555555555556,
              "#d8576b"
             ],
             [
              0.6666666666666666,
              "#ed7953"
             ],
             [
              0.7777777777777778,
              "#fb9f3a"
             ],
             [
              0.8888888888888888,
              "#fdca26"
             ],
             [
              1,
              "#f0f921"
             ]
            ],
            "type": "heatmapgl"
           }
          ],
          "histogram": [
           {
            "marker": {
             "pattern": {
              "fillmode": "overlay",
              "size": 10,
              "solidity": 0.2
             }
            },
            "type": "histogram"
           }
          ],
          "histogram2d": [
           {
            "colorbar": {
             "outlinewidth": 0,
             "ticks": ""
            },
            "colorscale": [
             [
              0,
              "#0d0887"
             ],
             [
              0.1111111111111111,
              "#46039f"
             ],
             [
              0.2222222222222222,
              "#7201a8"
             ],
             [
              0.3333333333333333,
              "#9c179e"
             ],
             [
              0.4444444444444444,
              "#bd3786"
             ],
             [
              0.5555555555555556,
              "#d8576b"
             ],
             [
              0.6666666666666666,
              "#ed7953"
             ],
             [
              0.7777777777777778,
              "#fb9f3a"
             ],
             [
              0.8888888888888888,
              "#fdca26"
             ],
             [
              1,
              "#f0f921"
             ]
            ],
            "type": "histogram2d"
           }
          ],
          "histogram2dcontour": [
           {
            "colorbar": {
             "outlinewidth": 0,
             "ticks": ""
            },
            "colorscale": [
             [
              0,
              "#0d0887"
             ],
             [
              0.1111111111111111,
              "#46039f"
             ],
             [
              0.2222222222222222,
              "#7201a8"
             ],
             [
              0.3333333333333333,
              "#9c179e"
             ],
             [
              0.4444444444444444,
              "#bd3786"
             ],
             [
              0.5555555555555556,
              "#d8576b"
             ],
             [
              0.6666666666666666,
              "#ed7953"
             ],
             [
              0.7777777777777778,
              "#fb9f3a"
             ],
             [
              0.8888888888888888,
              "#fdca26"
             ],
             [
              1,
              "#f0f921"
             ]
            ],
            "type": "histogram2dcontour"
           }
          ],
          "mesh3d": [
           {
            "colorbar": {
             "outlinewidth": 0,
             "ticks": ""
            },
            "type": "mesh3d"
           }
          ],
          "parcoords": [
           {
            "line": {
             "colorbar": {
              "outlinewidth": 0,
              "ticks": ""
             }
            },
            "type": "parcoords"
           }
          ],
          "pie": [
           {
            "automargin": true,
            "type": "pie"
           }
          ],
          "scatter": [
           {
            "fillpattern": {
             "fillmode": "overlay",
             "size": 10,
             "solidity": 0.2
            },
            "type": "scatter"
           }
          ],
          "scatter3d": [
           {
            "line": {
             "colorbar": {
              "outlinewidth": 0,
              "ticks": ""
             }
            },
            "marker": {
             "colorbar": {
              "outlinewidth": 0,
              "ticks": ""
             }
            },
            "type": "scatter3d"
           }
          ],
          "scattercarpet": [
           {
            "marker": {
             "colorbar": {
              "outlinewidth": 0,
              "ticks": ""
             }
            },
            "type": "scattercarpet"
           }
          ],
          "scattergeo": [
           {
            "marker": {
             "colorbar": {
              "outlinewidth": 0,
              "ticks": ""
             }
            },
            "type": "scattergeo"
           }
          ],
          "scattergl": [
           {
            "marker": {
             "colorbar": {
              "outlinewidth": 0,
              "ticks": ""
             }
            },
            "type": "scattergl"
           }
          ],
          "scattermapbox": [
           {
            "marker": {
             "colorbar": {
              "outlinewidth": 0,
              "ticks": ""
             }
            },
            "type": "scattermapbox"
           }
          ],
          "scatterpolar": [
           {
            "marker": {
             "colorbar": {
              "outlinewidth": 0,
              "ticks": ""
             }
            },
            "type": "scatterpolar"
           }
          ],
          "scatterpolargl": [
           {
            "marker": {
             "colorbar": {
              "outlinewidth": 0,
              "ticks": ""
             }
            },
            "type": "scatterpolargl"
           }
          ],
          "scatterternary": [
           {
            "marker": {
             "colorbar": {
              "outlinewidth": 0,
              "ticks": ""
             }
            },
            "type": "scatterternary"
           }
          ],
          "surface": [
           {
            "colorbar": {
             "outlinewidth": 0,
             "ticks": ""
            },
            "colorscale": [
             [
              0,
              "#0d0887"
             ],
             [
              0.1111111111111111,
              "#46039f"
             ],
             [
              0.2222222222222222,
              "#7201a8"
             ],
             [
              0.3333333333333333,
              "#9c179e"
             ],
             [
              0.4444444444444444,
              "#bd3786"
             ],
             [
              0.5555555555555556,
              "#d8576b"
             ],
             [
              0.6666666666666666,
              "#ed7953"
             ],
             [
              0.7777777777777778,
              "#fb9f3a"
             ],
             [
              0.8888888888888888,
              "#fdca26"
             ],
             [
              1,
              "#f0f921"
             ]
            ],
            "type": "surface"
           }
          ],
          "table": [
           {
            "cells": {
             "fill": {
              "color": "#EBF0F8"
             },
             "line": {
              "color": "white"
             }
            },
            "header": {
             "fill": {
              "color": "#C8D4E3"
             },
             "line": {
              "color": "white"
             }
            },
            "type": "table"
           }
          ]
         },
         "layout": {
          "annotationdefaults": {
           "arrowcolor": "#2a3f5f",
           "arrowhead": 0,
           "arrowwidth": 1
          },
          "autotypenumbers": "strict",
          "coloraxis": {
           "colorbar": {
            "outlinewidth": 0,
            "ticks": ""
           }
          },
          "colorscale": {
           "diverging": [
            [
             0,
             "#8e0152"
            ],
            [
             0.1,
             "#c51b7d"
            ],
            [
             0.2,
             "#de77ae"
            ],
            [
             0.3,
             "#f1b6da"
            ],
            [
             0.4,
             "#fde0ef"
            ],
            [
             0.5,
             "#f7f7f7"
            ],
            [
             0.6,
             "#e6f5d0"
            ],
            [
             0.7,
             "#b8e186"
            ],
            [
             0.8,
             "#7fbc41"
            ],
            [
             0.9,
             "#4d9221"
            ],
            [
             1,
             "#276419"
            ]
           ],
           "sequential": [
            [
             0,
             "#0d0887"
            ],
            [
             0.1111111111111111,
             "#46039f"
            ],
            [
             0.2222222222222222,
             "#7201a8"
            ],
            [
             0.3333333333333333,
             "#9c179e"
            ],
            [
             0.4444444444444444,
             "#bd3786"
            ],
            [
             0.5555555555555556,
             "#d8576b"
            ],
            [
             0.6666666666666666,
             "#ed7953"
            ],
            [
             0.7777777777777778,
             "#fb9f3a"
            ],
            [
             0.8888888888888888,
             "#fdca26"
            ],
            [
             1,
             "#f0f921"
            ]
           ],
           "sequentialminus": [
            [
             0,
             "#0d0887"
            ],
            [
             0.1111111111111111,
             "#46039f"
            ],
            [
             0.2222222222222222,
             "#7201a8"
            ],
            [
             0.3333333333333333,
             "#9c179e"
            ],
            [
             0.4444444444444444,
             "#bd3786"
            ],
            [
             0.5555555555555556,
             "#d8576b"
            ],
            [
             0.6666666666666666,
             "#ed7953"
            ],
            [
             0.7777777777777778,
             "#fb9f3a"
            ],
            [
             0.8888888888888888,
             "#fdca26"
            ],
            [
             1,
             "#f0f921"
            ]
           ]
          },
          "colorway": [
           "#636efa",
           "#EF553B",
           "#00cc96",
           "#ab63fa",
           "#FFA15A",
           "#19d3f3",
           "#FF6692",
           "#B6E880",
           "#FF97FF",
           "#FECB52"
          ],
          "font": {
           "color": "#2a3f5f"
          },
          "geo": {
           "bgcolor": "white",
           "lakecolor": "white",
           "landcolor": "#E5ECF6",
           "showlakes": true,
           "showland": true,
           "subunitcolor": "white"
          },
          "hoverlabel": {
           "align": "left"
          },
          "hovermode": "closest",
          "mapbox": {
           "style": "light"
          },
          "paper_bgcolor": "white",
          "plot_bgcolor": "#E5ECF6",
          "polar": {
           "angularaxis": {
            "gridcolor": "white",
            "linecolor": "white",
            "ticks": ""
           },
           "bgcolor": "#E5ECF6",
           "radialaxis": {
            "gridcolor": "white",
            "linecolor": "white",
            "ticks": ""
           }
          },
          "scene": {
           "xaxis": {
            "backgroundcolor": "#E5ECF6",
            "gridcolor": "white",
            "gridwidth": 2,
            "linecolor": "white",
            "showbackground": true,
            "ticks": "",
            "zerolinecolor": "white"
           },
           "yaxis": {
            "backgroundcolor": "#E5ECF6",
            "gridcolor": "white",
            "gridwidth": 2,
            "linecolor": "white",
            "showbackground": true,
            "ticks": "",
            "zerolinecolor": "white"
           },
           "zaxis": {
            "backgroundcolor": "#E5ECF6",
            "gridcolor": "white",
            "gridwidth": 2,
            "linecolor": "white",
            "showbackground": true,
            "ticks": "",
            "zerolinecolor": "white"
           }
          },
          "shapedefaults": {
           "line": {
            "color": "#2a3f5f"
           }
          },
          "ternary": {
           "aaxis": {
            "gridcolor": "white",
            "linecolor": "white",
            "ticks": ""
           },
           "baxis": {
            "gridcolor": "white",
            "linecolor": "white",
            "ticks": ""
           },
           "bgcolor": "#E5ECF6",
           "caxis": {
            "gridcolor": "white",
            "linecolor": "white",
            "ticks": ""
           }
          },
          "title": {
           "x": 0.05
          },
          "xaxis": {
           "automargin": true,
           "gridcolor": "white",
           "linecolor": "white",
           "ticks": "",
           "title": {
            "standoff": 15
           },
           "zerolinecolor": "white",
           "zerolinewidth": 2
          },
          "yaxis": {
           "automargin": true,
           "gridcolor": "white",
           "linecolor": "white",
           "ticks": "",
           "title": {
            "standoff": 15
           },
           "zerolinecolor": "white",
           "zerolinewidth": 2
          }
         }
        },
        "xaxis": {
         "anchor": "y",
         "domain": [
          0,
          1
         ],
         "title": {
          "text": "Start Year"
         }
        },
        "yaxis": {
         "anchor": "x",
         "domain": [
          0,
          1
         ],
         "title": {
          "text": "value"
         }
        }
       }
      }
     },
     "metadata": {},
     "output_type": "display_data"
    }
   ],
   "source": [
    "def compare_with_other_country(category_a,category_b,country):\n",
    "    grouped = df_properties.groupby('programFy', as_index=False).sum(numeric_only=True)\n",
    "    grouped['actualAmountPaid'] = grouped['actualAmountPaid'].cumsum()\n",
    "    disasters_grouped = df_disasters_us.groupby('Start Year', as_index=False).sum(numeric_only=True)\n",
    "    disasters_grouped[\"Total Damages, Adjusted ('000 US$)\"] = disasters_grouped[\"Total Damages, Adjusted ('000 US$)\"].cumsum()\n",
    "\n",
    "    def get_prevention_costs(row):\n",
    "        prevention_row = grouped[grouped['programFy'] == row['Start Year']]\n",
    "        if (prevention_row.empty):\n",
    "            return 0.\n",
    "        return prevention_row['actualAmountPaid']\n",
    "\n",
    "    def get_total_costs(row):\n",
    "        country_disasters = df_disasters[df_disasters['ISO'] != \"USA\"]\n",
    "        country_grouped = country_disasters.groupby('Start Year', as_index=False).sum(numeric_only=True) #.sum(numeric_only=True)\n",
    "        country_grouped[\"Total Damages, Adjusted ('000 US$)\"] = country_grouped[\"Total Damages, Adjusted ('000 US$)\"].cumsum()\n",
    "        other_country_row = country_grouped[country_grouped['Start Year'] == row['Start Year']]\n",
    "        if other_country_row.empty:\n",
    "            return 0\n",
    "        else:\n",
    "            # print(other_country_row)\n",
    "            return other_country_row[\"Total Damages, Adjusted ('000 US$)\"].mean()\n",
    "\n",
    "\n",
    "    disasters_grouped['prevention costs'] = disasters_grouped.apply(get_prevention_costs, axis=1)\n",
    "    disasters_grouped['prevention costs'] = disasters_grouped['prevention costs'].astype(dtype=float)\n",
    "    disasters_grouped['other country'] = disasters_grouped.apply(get_total_costs, axis=1)\n",
    "    disasters_grouped['other country'] = disasters_grouped['other country'].astype(dtype=float)\n",
    "\n",
    "    return px.line(disasters_grouped[disasters_grouped['Start Year'] < 2023], 'Start Year', [\"Total Damages, Adjusted ('000 US$)\", 'other country'])\n",
    "\n",
    "\n",
    "fig = compare_with_other_country(None,None,'BEL')\n",
    "fig.show()"
   ]
  },
  {
   "cell_type": "code",
   "execution_count": 21,
   "metadata": {},
   "outputs": [
    {
     "data": {
      "text/html": [
       "<div>\n",
       "<style scoped>\n",
       "    .dataframe tbody tr th:only-of-type {\n",
       "        vertical-align: middle;\n",
       "    }\n",
       "\n",
       "    .dataframe tbody tr th {\n",
       "        vertical-align: top;\n",
       "    }\n",
       "\n",
       "    .dataframe thead th {\n",
       "        text-align: right;\n",
       "    }\n",
       "</style>\n",
       "<table border=\"1\" class=\"dataframe\">\n",
       "  <thead>\n",
       "    <tr style=\"text-align: right;\">\n",
       "      <th></th>\n",
       "      <th>Start Year</th>\n",
       "      <th>AID Contribution ('000 US$)</th>\n",
       "      <th>Dis Mag Value</th>\n",
       "      <th>Latitude</th>\n",
       "      <th>Longitude</th>\n",
       "      <th>Start Month</th>\n",
       "      <th>Start Day</th>\n",
       "      <th>End Year</th>\n",
       "      <th>End Month</th>\n",
       "      <th>End Day</th>\n",
       "      <th>...</th>\n",
       "      <th>No Injured</th>\n",
       "      <th>No Affected</th>\n",
       "      <th>No Homeless</th>\n",
       "      <th>Total Affected</th>\n",
       "      <th>Reconstruction Costs ('000 US$)</th>\n",
       "      <th>Reconstruction Costs, Adjusted ('000 US$)</th>\n",
       "      <th>Insured Damages ('000 US$)</th>\n",
       "      <th>Insured Damages, Adjusted ('000 US$)</th>\n",
       "      <th>Total Damages ('000 US$)</th>\n",
       "      <th>Total Damages, Adjusted ('000 US$)</th>\n",
       "    </tr>\n",
       "  </thead>\n",
       "  <tbody>\n",
       "    <tr>\n",
       "      <th>0</th>\n",
       "      <td>1964</td>\n",
       "      <td>0.0</td>\n",
       "      <td>0.0</td>\n",
       "      <td>-19.615441</td>\n",
       "      <td>-78.602024</td>\n",
       "      <td>12.0</td>\n",
       "      <td>5.0</td>\n",
       "      <td>5892</td>\n",
       "      <td>12.0</td>\n",
       "      <td>5.0</td>\n",
       "      <td>...</td>\n",
       "      <td>0.0</td>\n",
       "      <td>120000.0</td>\n",
       "      <td>0.0</td>\n",
       "      <td>120000.0</td>\n",
       "      <td>0.0</td>\n",
       "      <td>0.0</td>\n",
       "      <td>0.0</td>\n",
       "      <td>0.0</td>\n",
       "      <td>500.0</td>\n",
       "      <td>4718.0</td>\n",
       "    </tr>\n",
       "    <tr>\n",
       "      <th>1</th>\n",
       "      <td>1965</td>\n",
       "      <td>0.0</td>\n",
       "      <td>0.0</td>\n",
       "      <td>-32.676530</td>\n",
       "      <td>-86.557830</td>\n",
       "      <td>14.0</td>\n",
       "      <td>16.0</td>\n",
       "      <td>3930</td>\n",
       "      <td>14.0</td>\n",
       "      <td>16.0</td>\n",
       "      <td>...</td>\n",
       "      <td>0.0</td>\n",
       "      <td>230000.0</td>\n",
       "      <td>40000.0</td>\n",
       "      <td>270000.0</td>\n",
       "      <td>0.0</td>\n",
       "      <td>0.0</td>\n",
       "      <td>0.0</td>\n",
       "      <td>0.0</td>\n",
       "      <td>17000.0</td>\n",
       "      <td>162617.0</td>\n",
       "    </tr>\n",
       "    <tr>\n",
       "      <th>2</th>\n",
       "      <td>1966</td>\n",
       "      <td>0.0</td>\n",
       "      <td>0.0</td>\n",
       "      <td>-56.480459</td>\n",
       "      <td>-126.557049</td>\n",
       "      <td>11.0</td>\n",
       "      <td>43.0</td>\n",
       "      <td>9830</td>\n",
       "      <td>11.0</td>\n",
       "      <td>43.0</td>\n",
       "      <td>...</td>\n",
       "      <td>1757.0</td>\n",
       "      <td>4177381.0</td>\n",
       "      <td>29000.0</td>\n",
       "      <td>4208138.0</td>\n",
       "      <td>0.0</td>\n",
       "      <td>0.0</td>\n",
       "      <td>0.0</td>\n",
       "      <td>0.0</td>\n",
       "      <td>60941.0</td>\n",
       "      <td>712080.0</td>\n",
       "    </tr>\n",
       "    <tr>\n",
       "      <th>3</th>\n",
       "      <td>1967</td>\n",
       "      <td>0.0</td>\n",
       "      <td>0.0</td>\n",
       "      <td>-101.678013</td>\n",
       "      <td>-221.486585</td>\n",
       "      <td>28.0</td>\n",
       "      <td>120.0</td>\n",
       "      <td>9835</td>\n",
       "      <td>28.0</td>\n",
       "      <td>120.0</td>\n",
       "      <td>...</td>\n",
       "      <td>1307.0</td>\n",
       "      <td>172836.0</td>\n",
       "      <td>15400.0</td>\n",
       "      <td>189543.0</td>\n",
       "      <td>0.0</td>\n",
       "      <td>0.0</td>\n",
       "      <td>0.0</td>\n",
       "      <td>0.0</td>\n",
       "      <td>15300.0</td>\n",
       "      <td>846308.0</td>\n",
       "    </tr>\n",
       "    <tr>\n",
       "      <th>4</th>\n",
       "      <td>1968</td>\n",
       "      <td>0.0</td>\n",
       "      <td>0.0</td>\n",
       "      <td>0.000000</td>\n",
       "      <td>0.000000</td>\n",
       "      <td>12.0</td>\n",
       "      <td>0.0</td>\n",
       "      <td>1968</td>\n",
       "      <td>12.0</td>\n",
       "      <td>0.0</td>\n",
       "      <td>...</td>\n",
       "      <td>0.0</td>\n",
       "      <td>0.0</td>\n",
       "      <td>0.0</td>\n",
       "      <td>0.0</td>\n",
       "      <td>0.0</td>\n",
       "      <td>0.0</td>\n",
       "      <td>0.0</td>\n",
       "      <td>0.0</td>\n",
       "      <td>0.0</td>\n",
       "      <td>846308.0</td>\n",
       "    </tr>\n",
       "  </tbody>\n",
       "</table>\n",
       "<p>5 rows × 21 columns</p>\n",
       "</div>"
      ],
      "text/plain": [
       "   Start Year  AID Contribution ('000 US$)  Dis Mag Value    Latitude   \n",
       "0        1964                          0.0            0.0  -19.615441  \\\n",
       "1        1965                          0.0            0.0  -32.676530   \n",
       "2        1966                          0.0            0.0  -56.480459   \n",
       "3        1967                          0.0            0.0 -101.678013   \n",
       "4        1968                          0.0            0.0    0.000000   \n",
       "\n",
       "    Longitude  Start Month  Start Day  End Year  End Month  End Day  ...   \n",
       "0  -78.602024         12.0        5.0      5892       12.0      5.0  ...  \\\n",
       "1  -86.557830         14.0       16.0      3930       14.0     16.0  ...   \n",
       "2 -126.557049         11.0       43.0      9830       11.0     43.0  ...   \n",
       "3 -221.486585         28.0      120.0      9835       28.0    120.0  ...   \n",
       "4    0.000000         12.0        0.0      1968       12.0      0.0  ...   \n",
       "\n",
       "   No Injured  No Affected  No Homeless  Total Affected   \n",
       "0         0.0     120000.0          0.0        120000.0  \\\n",
       "1         0.0     230000.0      40000.0        270000.0   \n",
       "2      1757.0    4177381.0      29000.0       4208138.0   \n",
       "3      1307.0     172836.0      15400.0        189543.0   \n",
       "4         0.0          0.0          0.0             0.0   \n",
       "\n",
       "   Reconstruction Costs ('000 US$)  Reconstruction Costs, Adjusted ('000 US$)   \n",
       "0                              0.0                                        0.0  \\\n",
       "1                              0.0                                        0.0   \n",
       "2                              0.0                                        0.0   \n",
       "3                              0.0                                        0.0   \n",
       "4                              0.0                                        0.0   \n",
       "\n",
       "   Insured Damages ('000 US$)  Insured Damages, Adjusted ('000 US$)   \n",
       "0                         0.0                                   0.0  \\\n",
       "1                         0.0                                   0.0   \n",
       "2                         0.0                                   0.0   \n",
       "3                         0.0                                   0.0   \n",
       "4                         0.0                                   0.0   \n",
       "\n",
       "   Total Damages ('000 US$)  Total Damages, Adjusted ('000 US$)  \n",
       "0                     500.0                              4718.0  \n",
       "1                   17000.0                            162617.0  \n",
       "2                   60941.0                            712080.0  \n",
       "3                   15300.0                            846308.0  \n",
       "4                       0.0                            846308.0  \n",
       "\n",
       "[5 rows x 21 columns]"
      ]
     },
     "execution_count": 21,
     "metadata": {},
     "output_type": "execute_result"
    }
   ],
   "source": [
    "def get_total_costs(row):\n",
    "    country = 'BRA'\n",
    "    country_disasters = df_disasters[df_disasters['ISO'] == country]\n",
    "    country_grouped = country_disasters.groupby('Start Year', as_index=False).sum(numeric_only=True)\n",
    "    country_grouped[\"Total Damages, Adjusted ('000 US$)\"] = country_grouped[\"Total Damages, Adjusted ('000 US$)\"].cumsum()\n",
    "    return country_grouped\n",
    "\n",
    "idk = get_total_costs(None)\n",
    "idk.head()\n",
    "    # other_country_row = country_grouped[country_grouped['Start Year'] == row['Start Year']]\n",
    "    # print(country_grouped[\"Total Damages, Adjusted ('000 US$)\"])\n",
    "    # if other_country_row.empty:\n",
    "    #     return 0\n",
    "    # else:\n",
    "    #     print(other_country_row)\n",
    "    #     return other_country_row[\"Total Damages, Adjusted ('000 US$)\"]"
   ]
  },
  {
   "cell_type": "code",
   "execution_count": 5,
   "metadata": {},
   "outputs": [],
   "source": [
    "def fill_missing_columns_with_default(df, columns, columns_to_fill, values):\n",
    "    copy_df = df.copy()\n",
    "    unique_columns = [copy_df[col].unique() for col in columns]\n",
    "    index = pd.MultiIndex.from_product(unique_columns,names=columns)\n",
    "    new_df = pd.DataFrame(index=index, columns=['count'])\n",
    "    merged_df = pd.merge(copy_df, new_df, how='right', left_on=columns, right_index=True)\n",
    "    for idx,col in enumerate(columns_to_fill):\n",
    "        merged_df[col] = merged_df[col].fillna(values[idx])\n",
    "    return merged_df\n",
    "\n",
    "def get_gdp_data(df_gdp: pd.DataFrame, df_disaster: pd.DataFrame, years, country = None, categories = False):\n",
    "    columns = years + ['Country Code']\n",
    "    columns = [str(c) for c in columns]\n",
    "    gdp_data_filtered = df_gdp[columns]\n",
    "    if (country):\n",
    "        gdp_data_reduced = gdp_data_filtered[gdp_data_filtered['Country Code'] == country]\n",
    "        disaster_columns = ['Start Year', 'ISO']\n",
    "        if (categories): disaster_columns += ['Disaster Subgroup', 'Disaster Type']\n",
    "        disaster_data_by_year = df_disaster.groupby(disaster_columns, as_index=False).sum(numeric_only=True)\n",
    "        disaster_data_by_year = disaster_data_by_year[disaster_data_by_year['ISO'] == country] \n",
    "    else:\n",
    "        disaster_columns = ['Start Year']\n",
    "        if (categories): disaster_columns += ['Disaster Subgroup', 'Disaster Type']\n",
    "        gdp_data_reduced = pd.DataFrame([gdp_data_filtered.mean(numeric_only=True)], columns=[str(y) for y in years])\n",
    "        disaster_data_by_year = df_disaster.groupby(disaster_columns, as_index=False).sum(numeric_only=True)\n",
    "        disaster_data_by_year['ISO'] = 'WORLD'\n",
    "\n",
    "    def calculate_gdp_share(row):\n",
    "        year = str(int(row['Start Year']))\n",
    "        if (not (year in gdp_data_reduced.columns)):\n",
    "            return 0\n",
    "        gdp = gdp_data_reduced[year]\n",
    "        if (gdp.empty):\n",
    "            return 0\n",
    "        damages = row[\"Total Damages, Adjusted ('000 US$)\"] * 1000\n",
    "        return (damages / gdp) * 100\n",
    "\n",
    "    columns_to_fill = ['Start Year', 'ISO', 'Disaster Subgroup', 'Disaster Type']\n",
    "\n",
    "    if (disaster_data_by_year.empty):\n",
    "        disaster_data_by_year[\"share\"] = 0\n",
    "    else:\n",
    "        disaster_data_by_year['share'] = disaster_data_by_year.apply(calculate_gdp_share, axis=1)\n",
    "\n",
    "    if categories:\n",
    "        filled_df = fill_missing_columns_with_default(disaster_data_by_year,columns_to_fill,[\"Total Damages, Adjusted (\\'000 US$)\", 'share'],[0,0])\n",
    "        return filled_df\n",
    "    return disaster_data_by_year"
   ]
  },
  {
   "cell_type": "code",
   "execution_count": 27,
   "metadata": {},
   "outputs": [],
   "source": [
    "def fill_years(df,years,country, disaster_classification): \n",
    "    all_combinations = [(year, country, disaster_subgroup, disaster_type) for disaster_subgroup, disaster_types in disaster_classification.items() for disaster_type in disaster_types for year in years]\n",
    "    all_combinations_df = pd.DataFrame(all_combinations, columns=['Start Year', 'ISO', 'Disaster Subgroup', 'Disaster Type'])\n",
    "    # print(df.index, df.columns)\n",
    "    # print(all_combinations_df.index, all_combinations_df.columns)\n",
    "    merged_df = pd.concat([all_combinations_df, df])\n",
    "    # merged_df = pd.merge(df, all_combinations_df,on=['Start Year', 'ISO', 'Disaster Subgroup', 'Disaster Type'], how=\"right\")\n",
    "    return merged_df\n",
    "    # merged_df.reset_index()"
   ]
  },
  {
   "cell_type": "code",
   "execution_count": 28,
   "metadata": {},
   "outputs": [],
   "source": [
    "df_gdp = pd.read_csv('../gdp_data_constant.csv')\n",
    "df_disaster = pd.read_csv('../Preprocessed-Natural-Disasters.csv',delimiter=';')\n",
    "\n",
    "disaster_subgroups = df_disaster['Disaster Subgroup'].unique()\n",
    "disaster_types = df_disaster['Disaster Type'].unique()\n",
    "\n",
    "disaster_classification = {dis_subgroup: list(df_disaster[df_disaster[\"Disaster Subgroup\"] == dis_subgroup][\"Disaster Type\"].unique()) for dis_subgroup in df_disaster['Disaster Subgroup'].unique()}\n",
    "\n",
    "# isos = df_disaster['ISO'].unique()\n",
    "isos = df_gdp['Country Code'].unique()\n",
    "\n",
    "years = list(range(1960,2024))\n",
    "\n",
    "total_gdp_df = pd.DataFrame()\n",
    "for iso in isos:\n",
    "    gdp_data = get_gdp_data(df_gdp,df_disaster,years,country=iso,categories=True)\n",
    "    gdp_data = gdp_data[['Start Year', 'ISO', 'Disaster Subgroup', 'Disaster Type','share']]\n",
    "    gdp_data = fill_years(gdp_data,years,iso, disaster_classification)\n",
    "    gdp_data.fillna(0,inplace=True)\n",
    "    total_gdp_df = pd.concat([total_gdp_df, gdp_data])"
   ]
  },
  {
   "cell_type": "code",
   "execution_count": 31,
   "metadata": {},
   "outputs": [
    {
     "data": {
      "text/plain": [
       "(266, 266)"
      ]
     },
     "execution_count": 31,
     "metadata": {},
     "output_type": "execute_result"
    }
   ],
   "source": [
    "len(total_gdp_df['ISO'].unique()), len(total_gdp_df['ISO'].unique())"
   ]
  },
  {
   "cell_type": "code",
   "execution_count": 30,
   "metadata": {},
   "outputs": [],
   "source": [
    "total_gdp_df.to_csv('../gdp_data2.csv', index=False)"
   ]
  },
  {
   "cell_type": "code",
   "execution_count": 31,
   "metadata": {},
   "outputs": [],
   "source": [
    "# total_gdp_df.to_csv('../gdp_data.csv', index=False)"
   ]
  }
 ],
 "metadata": {
  "kernelspec": {
   "display_name": "infovis",
   "language": "python",
   "name": "python3"
  },
  "language_info": {
   "codemirror_mode": {
    "name": "ipython",
    "version": 3
   },
   "file_extension": ".py",
   "mimetype": "text/x-python",
   "name": "python",
   "nbconvert_exporter": "python",
   "pygments_lexer": "ipython3",
   "version": "3.11.2"
  },
  "orig_nbformat": 4
 },
 "nbformat": 4,
 "nbformat_minor": 2
}
